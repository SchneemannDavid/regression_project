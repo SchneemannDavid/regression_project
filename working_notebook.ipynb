{
 "cells": [
  {
   "cell_type": "markdown",
   "id": "f2d22abd",
   "metadata": {},
   "source": [
    "# Acquire"
   ]
  },
  {
   "cell_type": "code",
   "execution_count": 1,
   "id": "244e8f55",
   "metadata": {},
   "outputs": [],
   "source": [
    "import warnings\n",
    "warnings.filterwarnings(\"ignore\")\n",
    "\n",
    "import pandas as pd\n",
    "import numpy as np\n",
    "import matplotlib.pyplot as plt\n",
    "import seaborn as sns\n",
    "\n",
    "from sklearn.model_selection import train_test_split\n",
    "from sklearn.feature_selection import SelectKBest, RFE, f_regression, SequentialFeatureSelector\n",
    "from sklearn.linear_model import LinearRegression\n",
    "from scipy import stats\n",
    "import sklearn.preprocessing\n",
    "\n",
    "\n",
    "from env import user, password, host\n",
    "import wrangle"
   ]
  },
  {
   "cell_type": "code",
   "execution_count": 2,
   "id": "e8141f05",
   "metadata": {},
   "outputs": [],
   "source": [
    "def get_db_url(database):\n",
    "    return f'mysql+pymysql://{user}:{password}@{host}/{database}'"
   ]
  },
  {
   "cell_type": "code",
   "execution_count": 3,
   "id": "c35e8eab",
   "metadata": {},
   "outputs": [],
   "source": [
    "url = get_db_url('zillow')"
   ]
  },
  {
   "cell_type": "code",
   "execution_count": 4,
   "id": "d41783b9",
   "metadata": {},
   "outputs": [],
   "source": [
    "df = pd.read_sql('''\n",
    "SELECT  propertylandusetypeid\n",
    "        bedroomcnt,\n",
    "        bathroomcnt,\n",
    "        calculatedfinishedsquarefeet,\n",
    "        taxvaluedollarcnt,\n",
    "        yearbuilt,\n",
    "        taxamount,\n",
    "        fips\n",
    "FROM properties_2017 \n",
    "JOIN propertylandusetype USING (propertylandusetypeid)\n",
    "JOIN predictions_2017 ON properties_2017.id = predictions_2017.id\n",
    "WHERE propertylandusetype.propertylandusedesc = \"Single Family Residential\" \n",
    "AND predictions_2017.transactiondate LIKE \"2017%%\"\n",
    "''', url)"
   ]
  },
  {
   "cell_type": "code",
   "execution_count": 5,
   "id": "80edf15d",
   "metadata": {},
   "outputs": [
    {
     "data": {
      "text/html": [
       "<div>\n",
       "<style scoped>\n",
       "    .dataframe tbody tr th:only-of-type {\n",
       "        vertical-align: middle;\n",
       "    }\n",
       "\n",
       "    .dataframe tbody tr th {\n",
       "        vertical-align: top;\n",
       "    }\n",
       "\n",
       "    .dataframe thead th {\n",
       "        text-align: right;\n",
       "    }\n",
       "</style>\n",
       "<table border=\"1\" class=\"dataframe\">\n",
       "  <thead>\n",
       "    <tr style=\"text-align: right;\">\n",
       "      <th></th>\n",
       "      <th>bedroomcnt</th>\n",
       "      <th>bathroomcnt</th>\n",
       "      <th>calculatedfinishedsquarefeet</th>\n",
       "      <th>taxvaluedollarcnt</th>\n",
       "      <th>yearbuilt</th>\n",
       "      <th>taxamount</th>\n",
       "      <th>fips</th>\n",
       "    </tr>\n",
       "  </thead>\n",
       "  <tbody>\n",
       "    <tr>\n",
       "      <th>0</th>\n",
       "      <td>261.0</td>\n",
       "      <td>3.0</td>\n",
       "      <td>2883.0</td>\n",
       "      <td>537944.0</td>\n",
       "      <td>1957.0</td>\n",
       "      <td>6689.31</td>\n",
       "      <td>6037.0</td>\n",
       "    </tr>\n",
       "    <tr>\n",
       "      <th>1</th>\n",
       "      <td>261.0</td>\n",
       "      <td>2.0</td>\n",
       "      <td>1922.0</td>\n",
       "      <td>405551.0</td>\n",
       "      <td>1960.0</td>\n",
       "      <td>5007.01</td>\n",
       "      <td>6037.0</td>\n",
       "    </tr>\n",
       "    <tr>\n",
       "      <th>2</th>\n",
       "      <td>261.0</td>\n",
       "      <td>2.0</td>\n",
       "      <td>1696.0</td>\n",
       "      <td>294146.0</td>\n",
       "      <td>1960.0</td>\n",
       "      <td>3661.14</td>\n",
       "      <td>6037.0</td>\n",
       "    </tr>\n",
       "    <tr>\n",
       "      <th>3</th>\n",
       "      <td>261.0</td>\n",
       "      <td>2.0</td>\n",
       "      <td>1696.0</td>\n",
       "      <td>252549.0</td>\n",
       "      <td>1960.0</td>\n",
       "      <td>3161.39</td>\n",
       "      <td>6037.0</td>\n",
       "    </tr>\n",
       "    <tr>\n",
       "      <th>4</th>\n",
       "      <td>261.0</td>\n",
       "      <td>2.0</td>\n",
       "      <td>1470.0</td>\n",
       "      <td>512000.0</td>\n",
       "      <td>1957.0</td>\n",
       "      <td>6242.87</td>\n",
       "      <td>6037.0</td>\n",
       "    </tr>\n",
       "  </tbody>\n",
       "</table>\n",
       "</div>"
      ],
      "text/plain": [
       "   bedroomcnt  bathroomcnt  calculatedfinishedsquarefeet  taxvaluedollarcnt  \\\n",
       "0       261.0          3.0                        2883.0           537944.0   \n",
       "1       261.0          2.0                        1922.0           405551.0   \n",
       "2       261.0          2.0                        1696.0           294146.0   \n",
       "3       261.0          2.0                        1696.0           252549.0   \n",
       "4       261.0          2.0                        1470.0           512000.0   \n",
       "\n",
       "   yearbuilt  taxamount    fips  \n",
       "0     1957.0    6689.31  6037.0  \n",
       "1     1960.0    5007.01  6037.0  \n",
       "2     1960.0    3661.14  6037.0  \n",
       "3     1960.0    3161.39  6037.0  \n",
       "4     1957.0    6242.87  6037.0  "
      ]
     },
     "execution_count": 5,
     "metadata": {},
     "output_type": "execute_result"
    }
   ],
   "source": [
    "df.head()"
   ]
  },
  {
   "cell_type": "code",
   "execution_count": null,
   "id": "061be0d4",
   "metadata": {},
   "outputs": [],
   "source": []
  },
  {
   "cell_type": "markdown",
   "id": "5c4b5cd3",
   "metadata": {},
   "source": [
    "# Clean/Prep"
   ]
  },
  {
   "cell_type": "code",
   "execution_count": 6,
   "id": "7dbf5eae",
   "metadata": {},
   "outputs": [
    {
     "data": {
      "text/plain": [
       "(56079, 7)"
      ]
     },
     "execution_count": 6,
     "metadata": {},
     "output_type": "execute_result"
    }
   ],
   "source": [
    "df.shape"
   ]
  },
  {
   "cell_type": "code",
   "execution_count": 7,
   "id": "9622cda8",
   "metadata": {},
   "outputs": [
    {
     "data": {
      "text/html": [
       "<div>\n",
       "<style scoped>\n",
       "    .dataframe tbody tr th:only-of-type {\n",
       "        vertical-align: middle;\n",
       "    }\n",
       "\n",
       "    .dataframe tbody tr th {\n",
       "        vertical-align: top;\n",
       "    }\n",
       "\n",
       "    .dataframe thead th {\n",
       "        text-align: right;\n",
       "    }\n",
       "</style>\n",
       "<table border=\"1\" class=\"dataframe\">\n",
       "  <thead>\n",
       "    <tr style=\"text-align: right;\">\n",
       "      <th></th>\n",
       "      <th>count</th>\n",
       "      <th>mean</th>\n",
       "      <th>std</th>\n",
       "      <th>min</th>\n",
       "      <th>25%</th>\n",
       "      <th>50%</th>\n",
       "      <th>75%</th>\n",
       "      <th>max</th>\n",
       "    </tr>\n",
       "  </thead>\n",
       "  <tbody>\n",
       "    <tr>\n",
       "      <th>bedroomcnt</th>\n",
       "      <td>56079.0</td>\n",
       "      <td>261.000000</td>\n",
       "      <td>0.000000</td>\n",
       "      <td>261.0</td>\n",
       "      <td>261.00</td>\n",
       "      <td>261.00</td>\n",
       "      <td>261.00</td>\n",
       "      <td>261.00</td>\n",
       "    </tr>\n",
       "    <tr>\n",
       "      <th>bathroomcnt</th>\n",
       "      <td>56079.0</td>\n",
       "      <td>2.239457</td>\n",
       "      <td>1.007012</td>\n",
       "      <td>0.0</td>\n",
       "      <td>2.00</td>\n",
       "      <td>2.00</td>\n",
       "      <td>3.00</td>\n",
       "      <td>20.00</td>\n",
       "    </tr>\n",
       "    <tr>\n",
       "      <th>calculatedfinishedsquarefeet</th>\n",
       "      <td>55848.0</td>\n",
       "      <td>1868.285704</td>\n",
       "      <td>966.973076</td>\n",
       "      <td>20.0</td>\n",
       "      <td>1260.00</td>\n",
       "      <td>1630.00</td>\n",
       "      <td>2217.00</td>\n",
       "      <td>26345.00</td>\n",
       "    </tr>\n",
       "    <tr>\n",
       "      <th>taxvaluedollarcnt</th>\n",
       "      <td>56071.0</td>\n",
       "      <td>457643.446951</td>\n",
       "      <td>663558.094993</td>\n",
       "      <td>9.0</td>\n",
       "      <td>187026.00</td>\n",
       "      <td>329525.00</td>\n",
       "      <td>533484.50</td>\n",
       "      <td>67506489.00</td>\n",
       "    </tr>\n",
       "    <tr>\n",
       "      <th>yearbuilt</th>\n",
       "      <td>55830.0</td>\n",
       "      <td>1961.186262</td>\n",
       "      <td>21.995171</td>\n",
       "      <td>1862.0</td>\n",
       "      <td>1949.00</td>\n",
       "      <td>1958.00</td>\n",
       "      <td>1976.00</td>\n",
       "      <td>2016.00</td>\n",
       "    </tr>\n",
       "    <tr>\n",
       "      <th>taxamount</th>\n",
       "      <td>55949.0</td>\n",
       "      <td>5589.363490</td>\n",
       "      <td>8541.810318</td>\n",
       "      <td>8.3</td>\n",
       "      <td>2523.76</td>\n",
       "      <td>4130.48</td>\n",
       "      <td>6410.56</td>\n",
       "      <td>1195295.62</td>\n",
       "    </tr>\n",
       "    <tr>\n",
       "      <th>fips</th>\n",
       "      <td>56079.0</td>\n",
       "      <td>6048.841581</td>\n",
       "      <td>21.237610</td>\n",
       "      <td>6037.0</td>\n",
       "      <td>6037.00</td>\n",
       "      <td>6037.00</td>\n",
       "      <td>6059.00</td>\n",
       "      <td>6111.00</td>\n",
       "    </tr>\n",
       "  </tbody>\n",
       "</table>\n",
       "</div>"
      ],
      "text/plain": [
       "                                count           mean            std     min  \\\n",
       "bedroomcnt                    56079.0     261.000000       0.000000   261.0   \n",
       "bathroomcnt                   56079.0       2.239457       1.007012     0.0   \n",
       "calculatedfinishedsquarefeet  55848.0    1868.285704     966.973076    20.0   \n",
       "taxvaluedollarcnt             56071.0  457643.446951  663558.094993     9.0   \n",
       "yearbuilt                     55830.0    1961.186262      21.995171  1862.0   \n",
       "taxamount                     55949.0    5589.363490    8541.810318     8.3   \n",
       "fips                          56079.0    6048.841581      21.237610  6037.0   \n",
       "\n",
       "                                    25%        50%        75%          max  \n",
       "bedroomcnt                       261.00     261.00     261.00       261.00  \n",
       "bathroomcnt                        2.00       2.00       3.00        20.00  \n",
       "calculatedfinishedsquarefeet    1260.00    1630.00    2217.00     26345.00  \n",
       "taxvaluedollarcnt             187026.00  329525.00  533484.50  67506489.00  \n",
       "yearbuilt                       1949.00    1958.00    1976.00      2016.00  \n",
       "taxamount                       2523.76    4130.48    6410.56   1195295.62  \n",
       "fips                            6037.00    6037.00    6059.00      6111.00  "
      ]
     },
     "execution_count": 7,
     "metadata": {},
     "output_type": "execute_result"
    }
   ],
   "source": [
    "df.describe().T"
   ]
  },
  {
   "cell_type": "code",
   "execution_count": 8,
   "id": "da6c5ba4",
   "metadata": {},
   "outputs": [
    {
     "name": "stdout",
     "output_type": "stream",
     "text": [
      "<class 'pandas.core.frame.DataFrame'>\n",
      "RangeIndex: 56079 entries, 0 to 56078\n",
      "Data columns (total 7 columns):\n",
      " #   Column                        Non-Null Count  Dtype  \n",
      "---  ------                        --------------  -----  \n",
      " 0   bedroomcnt                    56079 non-null  float64\n",
      " 1   bathroomcnt                   56079 non-null  float64\n",
      " 2   calculatedfinishedsquarefeet  55848 non-null  float64\n",
      " 3   taxvaluedollarcnt             56071 non-null  float64\n",
      " 4   yearbuilt                     55830 non-null  float64\n",
      " 5   taxamount                     55949 non-null  float64\n",
      " 6   fips                          56079 non-null  float64\n",
      "dtypes: float64(7)\n",
      "memory usage: 3.0 MB\n"
     ]
    }
   ],
   "source": [
    "df.info()"
   ]
  },
  {
   "cell_type": "code",
   "execution_count": 9,
   "id": "8f187ffc",
   "metadata": {},
   "outputs": [
    {
     "data": {
      "text/plain": [
       "bedroomcnt                        0\n",
       "bathroomcnt                       0\n",
       "calculatedfinishedsquarefeet    231\n",
       "taxvaluedollarcnt                 8\n",
       "yearbuilt                       249\n",
       "taxamount                       130\n",
       "fips                              0\n",
       "dtype: int64"
      ]
     },
     "execution_count": 9,
     "metadata": {},
     "output_type": "execute_result"
    }
   ],
   "source": [
    "df.isnull().sum()"
   ]
  },
  {
   "cell_type": "code",
   "execution_count": 10,
   "id": "e2b234eb",
   "metadata": {},
   "outputs": [
    {
     "data": {
      "text/plain": [
       "bedroomcnt                      0.000000\n",
       "bathroomcnt                     0.000000\n",
       "calculatedfinishedsquarefeet    0.004119\n",
       "taxvaluedollarcnt               0.000143\n",
       "yearbuilt                       0.004440\n",
       "taxamount                       0.002318\n",
       "fips                            0.000000\n",
       "dtype: float64"
      ]
     },
     "execution_count": 10,
     "metadata": {},
     "output_type": "execute_result"
    }
   ],
   "source": [
    "# What's the percentage of nulls?\n",
    "df.isna().mean()"
   ]
  },
  {
   "cell_type": "code",
   "execution_count": 11,
   "id": "68b20a38",
   "metadata": {},
   "outputs": [
    {
     "data": {
      "text/plain": [
       "0.9939"
      ]
     },
     "execution_count": 11,
     "metadata": {},
     "output_type": "execute_result"
    }
   ],
   "source": [
    "# If we drop all rows containing any null, how much data do we have left?\n",
    "round(df.dropna().shape[0] / df.shape[0], 4)"
   ]
  },
  {
   "cell_type": "code",
   "execution_count": 12,
   "id": "6b526117",
   "metadata": {},
   "outputs": [
    {
     "name": "stdout",
     "output_type": "stream",
     "text": [
      "bedroomcnt\n",
      "261.0    56079\n",
      "Name: bedroomcnt, dtype: int64\n",
      "--------------------\n",
      "bathroomcnt\n",
      "2.0     24535\n",
      "3.0     11152\n",
      "1.0     10630\n",
      "2.5      3723\n",
      "4.0      2147\n",
      "1.5       793\n",
      "5.0       780\n",
      "3.5       736\n",
      "4.5       506\n",
      "0.0       366\n",
      "6.0       303\n",
      "5.5       165\n",
      "7.0       116\n",
      "8.0        37\n",
      "6.5        30\n",
      "9.0        26\n",
      "10.0       11\n",
      "7.5        11\n",
      "8.5         5\n",
      "11.0        3\n",
      "13.0        1\n",
      "9.5         1\n",
      "20.0        1\n",
      "19.5        1\n",
      "Name: bathroomcnt, dtype: int64\n",
      "--------------------\n",
      "calculatedfinishedsquarefeet\n",
      "1200.0    136\n",
      "1080.0    113\n",
      "1120.0    105\n",
      "1400.0     99\n",
      "1040.0     99\n",
      "         ... \n",
      "7439.0      1\n",
      "4365.0      1\n",
      "5836.0      1\n",
      "5685.0      1\n",
      "3351.0      1\n",
      "Name: calculatedfinishedsquarefeet, Length: 4684, dtype: int64\n",
      "--------------------\n",
      "taxvaluedollarcnt\n",
      "460000.0     24\n",
      "440000.0     22\n",
      "450000.0     22\n",
      "425000.0     22\n",
      "570000.0     21\n",
      "             ..\n",
      "699275.0      1\n",
      "2500000.0     1\n",
      "878607.0      1\n",
      "144510.0      1\n",
      "374696.0      1\n",
      "Name: taxvaluedollarcnt, Length: 43893, dtype: int64\n",
      "--------------------\n",
      "yearbuilt\n",
      "1955.0    2167\n",
      "1950.0    1853\n",
      "1954.0    1842\n",
      "1956.0    1702\n",
      "1953.0    1590\n",
      "          ... \n",
      "1893.0       1\n",
      "1889.0       1\n",
      "1862.0       1\n",
      "1891.0       1\n",
      "1880.0       1\n",
      "Name: yearbuilt, Length: 133, dtype: int64\n",
      "--------------------\n",
      "taxamount\n",
      "3507.46     4\n",
      "3146.10     4\n",
      "4663.64     4\n",
      "4366.22     4\n",
      "10059.28    4\n",
      "           ..\n",
      "6812.88     1\n",
      "9445.46     1\n",
      "3096.36     1\n",
      "7999.94     1\n",
      "4577.84     1\n",
      "Name: taxamount, Length: 53983, dtype: int64\n",
      "--------------------\n",
      "fips\n",
      "6037.0    37287\n",
      "6059.0    13972\n",
      "6111.0     4820\n",
      "Name: fips, dtype: int64\n",
      "--------------------\n"
     ]
    }
   ],
   "source": [
    "for column in df.columns:\n",
    "    print(column)\n",
    "    print(df[column].value_counts())\n",
    "    print(\"--------------------\")"
   ]
  },
  {
   "cell_type": "markdown",
   "id": "11a29e65",
   "metadata": {},
   "source": [
    "**Takeaways So Far**\n",
    "- Bedrooms can be an integer\n",
    "- Bathrooms can stay a float to keep the .5 bathrooms\n",
    "- Year built, FIPS, and taxvaluedollarcnt can be converted to integers w/o data loss"
   ]
  },
  {
   "cell_type": "code",
   "execution_count": 13,
   "id": "b1792fa2",
   "metadata": {},
   "outputs": [],
   "source": [
    "# Dropping nulls due to relative insignificance to overall dataset\n",
    "df = df.dropna()"
   ]
  },
  {
   "cell_type": "code",
   "execution_count": 14,
   "id": "e37de894",
   "metadata": {},
   "outputs": [
    {
     "name": "stdout",
     "output_type": "stream",
     "text": [
      "<class 'pandas.core.frame.DataFrame'>\n",
      "Int64Index: 55735 entries, 0 to 56078\n",
      "Data columns (total 7 columns):\n",
      " #   Column                        Non-Null Count  Dtype  \n",
      "---  ------                        --------------  -----  \n",
      " 0   bedroomcnt                    55735 non-null  float64\n",
      " 1   bathroomcnt                   55735 non-null  float64\n",
      " 2   calculatedfinishedsquarefeet  55735 non-null  float64\n",
      " 3   taxvaluedollarcnt             55735 non-null  float64\n",
      " 4   yearbuilt                     55735 non-null  float64\n",
      " 5   taxamount                     55735 non-null  float64\n",
      " 6   fips                          55735 non-null  float64\n",
      "dtypes: float64(7)\n",
      "memory usage: 3.4 MB\n"
     ]
    }
   ],
   "source": [
    "df.info()"
   ]
  },
  {
   "cell_type": "code",
   "execution_count": 15,
   "id": "c22cf9c1",
   "metadata": {},
   "outputs": [
    {
     "data": {
      "text/plain": [
       "1.0"
      ]
     },
     "execution_count": 15,
     "metadata": {},
     "output_type": "execute_result"
    }
   ],
   "source": [
    "# 100% of calculatedfinishedsquarefeet can be converted to int w/o data loss\n",
    "(df.calculatedfinishedsquarefeet == df.calculatedfinishedsquarefeet.astype(int)).mean()"
   ]
  },
  {
   "cell_type": "code",
   "execution_count": 16,
   "id": "baf36c26",
   "metadata": {},
   "outputs": [
    {
     "data": {
      "text/plain": [
       "1.0"
      ]
     },
     "execution_count": 16,
     "metadata": {},
     "output_type": "execute_result"
    }
   ],
   "source": [
    "# 100% of calculatedfinishedsquarefeet can lose the decimal and be OK\n",
    "(df.taxvaluedollarcnt == df.taxvaluedollarcnt.astype(int)).mean()"
   ]
  },
  {
   "cell_type": "code",
   "execution_count": 17,
   "id": "d9c5c3bc",
   "metadata": {},
   "outputs": [
    {
     "data": {
      "text/plain": [
       "0.8930653987619988"
      ]
     },
     "execution_count": 17,
     "metadata": {},
     "output_type": "execute_result"
    }
   ],
   "source": [
    "(df.bathroomcnt == df.bathroomcnt.astype(int)).mean()"
   ]
  },
  {
   "cell_type": "code",
   "execution_count": 18,
   "id": "51f9ae71",
   "metadata": {},
   "outputs": [],
   "source": [
    "# fips, yearbuilt, and bedrooms can be integers\n",
    "df[\"fips\"] = df[\"fips\"].astype(int)\n",
    "df[\"yearbuilt\"] = df[\"yearbuilt\"].astype(int)\n",
    "df[\"bedroomcnt\"] = df[\"bedroomcnt\"].astype(int)\n",
    "df[\"taxvaluedollarcnt\"] = df[\"taxvaluedollarcnt\"].astype(int)\n",
    "df[\"calculatedfinishedsquarefeet\"] = df[\"calculatedfinishedsquarefeet\"].astype(int)"
   ]
  },
  {
   "cell_type": "code",
   "execution_count": 19,
   "id": "c3801181",
   "metadata": {},
   "outputs": [
    {
     "data": {
      "text/plain": [
       "bedroomcnt                        int64\n",
       "bathroomcnt                     float64\n",
       "calculatedfinishedsquarefeet      int64\n",
       "taxvaluedollarcnt                 int64\n",
       "yearbuilt                         int64\n",
       "taxamount                       float64\n",
       "fips                              int64\n",
       "dtype: object"
      ]
     },
     "execution_count": 19,
     "metadata": {},
     "output_type": "execute_result"
    }
   ],
   "source": [
    "df.dtypes"
   ]
  },
  {
   "cell_type": "code",
   "execution_count": 20,
   "id": "66a3b119",
   "metadata": {},
   "outputs": [
    {
     "data": {
      "text/html": [
       "<div>\n",
       "<style scoped>\n",
       "    .dataframe tbody tr th:only-of-type {\n",
       "        vertical-align: middle;\n",
       "    }\n",
       "\n",
       "    .dataframe tbody tr th {\n",
       "        vertical-align: top;\n",
       "    }\n",
       "\n",
       "    .dataframe thead th {\n",
       "        text-align: right;\n",
       "    }\n",
       "</style>\n",
       "<table border=\"1\" class=\"dataframe\">\n",
       "  <thead>\n",
       "    <tr style=\"text-align: right;\">\n",
       "      <th></th>\n",
       "      <th>bedroomcnt</th>\n",
       "      <th>bathroomcnt</th>\n",
       "      <th>calculatedfinishedsquarefeet</th>\n",
       "      <th>taxvaluedollarcnt</th>\n",
       "      <th>yearbuilt</th>\n",
       "      <th>fips</th>\n",
       "    </tr>\n",
       "  </thead>\n",
       "  <tbody>\n",
       "    <tr>\n",
       "      <th>0</th>\n",
       "      <td>261</td>\n",
       "      <td>3.0</td>\n",
       "      <td>2883</td>\n",
       "      <td>537944</td>\n",
       "      <td>1957</td>\n",
       "      <td>6037</td>\n",
       "    </tr>\n",
       "    <tr>\n",
       "      <th>1</th>\n",
       "      <td>261</td>\n",
       "      <td>2.0</td>\n",
       "      <td>1922</td>\n",
       "      <td>405551</td>\n",
       "      <td>1960</td>\n",
       "      <td>6037</td>\n",
       "    </tr>\n",
       "    <tr>\n",
       "      <th>2</th>\n",
       "      <td>261</td>\n",
       "      <td>2.0</td>\n",
       "      <td>1696</td>\n",
       "      <td>294146</td>\n",
       "      <td>1960</td>\n",
       "      <td>6037</td>\n",
       "    </tr>\n",
       "    <tr>\n",
       "      <th>3</th>\n",
       "      <td>261</td>\n",
       "      <td>2.0</td>\n",
       "      <td>1696</td>\n",
       "      <td>252549</td>\n",
       "      <td>1960</td>\n",
       "      <td>6037</td>\n",
       "    </tr>\n",
       "    <tr>\n",
       "      <th>4</th>\n",
       "      <td>261</td>\n",
       "      <td>2.0</td>\n",
       "      <td>1470</td>\n",
       "      <td>512000</td>\n",
       "      <td>1957</td>\n",
       "      <td>6037</td>\n",
       "    </tr>\n",
       "    <tr>\n",
       "      <th>...</th>\n",
       "      <td>...</td>\n",
       "      <td>...</td>\n",
       "      <td>...</td>\n",
       "      <td>...</td>\n",
       "      <td>...</td>\n",
       "      <td>...</td>\n",
       "    </tr>\n",
       "    <tr>\n",
       "      <th>56074</th>\n",
       "      <td>261</td>\n",
       "      <td>2.5</td>\n",
       "      <td>2212</td>\n",
       "      <td>233515</td>\n",
       "      <td>1980</td>\n",
       "      <td>6111</td>\n",
       "    </tr>\n",
       "    <tr>\n",
       "      <th>56075</th>\n",
       "      <td>261</td>\n",
       "      <td>3.0</td>\n",
       "      <td>2279</td>\n",
       "      <td>479342</td>\n",
       "      <td>1980</td>\n",
       "      <td>6111</td>\n",
       "    </tr>\n",
       "    <tr>\n",
       "      <th>56076</th>\n",
       "      <td>261</td>\n",
       "      <td>2.5</td>\n",
       "      <td>1891</td>\n",
       "      <td>379680</td>\n",
       "      <td>1984</td>\n",
       "      <td>6111</td>\n",
       "    </tr>\n",
       "    <tr>\n",
       "      <th>56077</th>\n",
       "      <td>261</td>\n",
       "      <td>2.0</td>\n",
       "      <td>1815</td>\n",
       "      <td>365491</td>\n",
       "      <td>1981</td>\n",
       "      <td>6111</td>\n",
       "    </tr>\n",
       "    <tr>\n",
       "      <th>56078</th>\n",
       "      <td>261</td>\n",
       "      <td>2.0</td>\n",
       "      <td>1949</td>\n",
       "      <td>374696</td>\n",
       "      <td>1978</td>\n",
       "      <td>6111</td>\n",
       "    </tr>\n",
       "  </tbody>\n",
       "</table>\n",
       "<p>55735 rows × 6 columns</p>\n",
       "</div>"
      ],
      "text/plain": [
       "       bedroomcnt  bathroomcnt  calculatedfinishedsquarefeet  \\\n",
       "0             261          3.0                          2883   \n",
       "1             261          2.0                          1922   \n",
       "2             261          2.0                          1696   \n",
       "3             261          2.0                          1696   \n",
       "4             261          2.0                          1470   \n",
       "...           ...          ...                           ...   \n",
       "56074         261          2.5                          2212   \n",
       "56075         261          3.0                          2279   \n",
       "56076         261          2.5                          1891   \n",
       "56077         261          2.0                          1815   \n",
       "56078         261          2.0                          1949   \n",
       "\n",
       "       taxvaluedollarcnt  yearbuilt  fips  \n",
       "0                 537944       1957  6037  \n",
       "1                 405551       1960  6037  \n",
       "2                 294146       1960  6037  \n",
       "3                 252549       1960  6037  \n",
       "4                 512000       1957  6037  \n",
       "...                  ...        ...   ...  \n",
       "56074             233515       1980  6111  \n",
       "56075             479342       1980  6111  \n",
       "56076             379680       1984  6111  \n",
       "56077             365491       1981  6111  \n",
       "56078             374696       1978  6111  \n",
       "\n",
       "[55735 rows x 6 columns]"
      ]
     },
     "execution_count": 20,
     "metadata": {},
     "output_type": "execute_result"
    }
   ],
   "source": [
    "df.drop(columns = 'taxamount')"
   ]
  },
  {
   "cell_type": "code",
   "execution_count": 21,
   "id": "bfbbc74e",
   "metadata": {},
   "outputs": [
    {
     "name": "stdout",
     "output_type": "stream",
     "text": [
      "<class 'pandas.core.frame.DataFrame'>\n",
      "Int64Index: 55735 entries, 0 to 56078\n",
      "Data columns (total 7 columns):\n",
      " #   Column                        Non-Null Count  Dtype  \n",
      "---  ------                        --------------  -----  \n",
      " 0   bedroomcnt                    55735 non-null  int64  \n",
      " 1   bathroomcnt                   55735 non-null  float64\n",
      " 2   calculatedfinishedsquarefeet  55735 non-null  int64  \n",
      " 3   taxvaluedollarcnt             55735 non-null  int64  \n",
      " 4   yearbuilt                     55735 non-null  int64  \n",
      " 5   taxamount                     55735 non-null  float64\n",
      " 6   fips                          55735 non-null  int64  \n",
      "dtypes: float64(2), int64(5)\n",
      "memory usage: 3.4 MB\n"
     ]
    }
   ],
   "source": [
    "df.info()"
   ]
  },
  {
   "cell_type": "code",
   "execution_count": 22,
   "id": "58bcb66b",
   "metadata": {},
   "outputs": [
    {
     "data": {
      "text/plain": [
       "3"
      ]
     },
     "execution_count": 22,
     "metadata": {},
     "output_type": "execute_result"
    }
   ],
   "source": [
    "# How many different categories are in fips?\n",
    "df['fips'].nunique()"
   ]
  },
  {
   "cell_type": "code",
   "execution_count": 23,
   "id": "2b24ef8f",
   "metadata": {},
   "outputs": [
    {
     "data": {
      "text/plain": [
       "6037    37099\n",
       "6059    13901\n",
       "6111     4735\n",
       "Name: fips, dtype: int64"
      ]
     },
     "execution_count": 23,
     "metadata": {},
     "output_type": "execute_result"
    }
   ],
   "source": [
    "df.fips.value_counts()"
   ]
  },
  {
   "cell_type": "markdown",
   "id": "06865a60",
   "metadata": {},
   "source": [
    "fips is akin to county code:\n",
    "- 6037 = LA county\n",
    "- 6059 = Orange county\n",
    "- 6111 = Ventura county"
   ]
  },
  {
   "cell_type": "code",
   "execution_count": 24,
   "id": "195e3553",
   "metadata": {},
   "outputs": [
    {
     "data": {
      "text/html": [
       "<div>\n",
       "<style scoped>\n",
       "    .dataframe tbody tr th:only-of-type {\n",
       "        vertical-align: middle;\n",
       "    }\n",
       "\n",
       "    .dataframe tbody tr th {\n",
       "        vertical-align: top;\n",
       "    }\n",
       "\n",
       "    .dataframe thead th {\n",
       "        text-align: right;\n",
       "    }\n",
       "</style>\n",
       "<table border=\"1\" class=\"dataframe\">\n",
       "  <thead>\n",
       "    <tr style=\"text-align: right;\">\n",
       "      <th></th>\n",
       "      <th>bedroomcnt</th>\n",
       "      <th>bathroomcnt</th>\n",
       "      <th>calculatedfinishedsquarefeet</th>\n",
       "      <th>taxvaluedollarcnt</th>\n",
       "      <th>yearbuilt</th>\n",
       "      <th>taxamount</th>\n",
       "      <th>fips</th>\n",
       "    </tr>\n",
       "  </thead>\n",
       "  <tbody>\n",
       "    <tr>\n",
       "      <th>0</th>\n",
       "      <td>261</td>\n",
       "      <td>3.0</td>\n",
       "      <td>2883</td>\n",
       "      <td>537944</td>\n",
       "      <td>1957</td>\n",
       "      <td>6689.31</td>\n",
       "      <td>6037</td>\n",
       "    </tr>\n",
       "    <tr>\n",
       "      <th>1</th>\n",
       "      <td>261</td>\n",
       "      <td>2.0</td>\n",
       "      <td>1922</td>\n",
       "      <td>405551</td>\n",
       "      <td>1960</td>\n",
       "      <td>5007.01</td>\n",
       "      <td>6037</td>\n",
       "    </tr>\n",
       "    <tr>\n",
       "      <th>2</th>\n",
       "      <td>261</td>\n",
       "      <td>2.0</td>\n",
       "      <td>1696</td>\n",
       "      <td>294146</td>\n",
       "      <td>1960</td>\n",
       "      <td>3661.14</td>\n",
       "      <td>6037</td>\n",
       "    </tr>\n",
       "    <tr>\n",
       "      <th>3</th>\n",
       "      <td>261</td>\n",
       "      <td>2.0</td>\n",
       "      <td>1696</td>\n",
       "      <td>252549</td>\n",
       "      <td>1960</td>\n",
       "      <td>3161.39</td>\n",
       "      <td>6037</td>\n",
       "    </tr>\n",
       "    <tr>\n",
       "      <th>4</th>\n",
       "      <td>261</td>\n",
       "      <td>2.0</td>\n",
       "      <td>1470</td>\n",
       "      <td>512000</td>\n",
       "      <td>1957</td>\n",
       "      <td>6242.87</td>\n",
       "      <td>6037</td>\n",
       "    </tr>\n",
       "  </tbody>\n",
       "</table>\n",
       "</div>"
      ],
      "text/plain": [
       "   bedroomcnt  bathroomcnt  calculatedfinishedsquarefeet  taxvaluedollarcnt  \\\n",
       "0         261          3.0                          2883             537944   \n",
       "1         261          2.0                          1922             405551   \n",
       "2         261          2.0                          1696             294146   \n",
       "3         261          2.0                          1696             252549   \n",
       "4         261          2.0                          1470             512000   \n",
       "\n",
       "   yearbuilt  taxamount  fips  \n",
       "0       1957    6689.31  6037  \n",
       "1       1960    5007.01  6037  \n",
       "2       1960    3661.14  6037  \n",
       "3       1960    3161.39  6037  \n",
       "4       1957    6242.87  6037  "
      ]
     },
     "execution_count": 24,
     "metadata": {},
     "output_type": "execute_result"
    }
   ],
   "source": [
    "df.head()"
   ]
  },
  {
   "cell_type": "code",
   "execution_count": 25,
   "id": "a2eb9e5e",
   "metadata": {},
   "outputs": [
    {
     "ename": "NameError",
     "evalue": "name 'none' is not defined",
     "output_type": "error",
     "traceback": [
      "\u001b[0;31m---------------------------------------------------------------------------\u001b[0m",
      "\u001b[0;31mNameError\u001b[0m                                 Traceback (most recent call last)",
      "Input \u001b[0;32mIn [25]\u001b[0m, in \u001b[0;36m<cell line: 1>\u001b[0;34m()\u001b[0m\n\u001b[0;32m----> 1\u001b[0m df \u001b[38;5;241m=\u001b[39m df\u001b[38;5;241m.\u001b[39mreplace(to_replace\u001b[38;5;241m=\u001b[39m{\u001b[38;5;124m'\u001b[39m\u001b[38;5;124m6037\u001b[39m\u001b[38;5;124m'\u001b[39m:\u001b[38;5;124m'\u001b[39m\u001b[38;5;124mLA County\u001b[39m\u001b[38;5;124m'\u001b[39m, \u001b[38;5;124m'\u001b[39m\u001b[38;5;124m6059\u001b[39m\u001b[38;5;124m'\u001b[39m:\u001b[38;5;124m'\u001b[39m\u001b[38;5;124mOrange County\u001b[39m\u001b[38;5;124m'\u001b[39m, \u001b[38;5;124m'\u001b[39m\u001b[38;5;124m6111\u001b[39m\u001b[38;5;124m'\u001b[39m:\u001b[38;5;124m'\u001b[39m\u001b[38;5;124mVentura County\u001b[39m\u001b[38;5;124m'\u001b[39m}, value\u001b[38;5;241m=\u001b[39m\u001b[43mnone\u001b[49m)\n",
      "\u001b[0;31mNameError\u001b[0m: name 'none' is not defined"
     ]
    }
   ],
   "source": [
    "df = df.replace(to_replace={'6037':'LA County', '6059':'Orange County', '6111':'Ventura County'}, value=none)"
   ]
  },
  {
   "cell_type": "code",
   "execution_count": null,
   "id": "5815b92b",
   "metadata": {},
   "outputs": [],
   "source": [
    "df.rename(columns = {'bedroomcnt':'bedrooms', 'bathroomcnt':'bathrooms', 'calculatedfinishedsquarefeet':'sq_ft', 'taxvaluedollarcnt':'property_value', 'yearbuilt':'year_built', 'fips':'location'})"
   ]
  },
  {
   "cell_type": "code",
   "execution_count": null,
   "id": "740fbe75",
   "metadata": {},
   "outputs": [],
   "source": [
    "def wrangle_zillow():\n",
    "    \n",
    "    import env\n",
    "    '''\n",
    "    Read student_grades csv file into a pandas DataFrame,\n",
    "    drop student_id column, replace whitespaces with NaN values,\n",
    "    drop any rows with Null values, convert all columns to int64,\n",
    "    return cleaned student grades DataFrame.\n",
    "    '''\n",
    "    # Acquire data from SQL.\n",
    "    def get_db_url(dbname, username=env.user, hostname=env.host, passw=env.password):\n",
    "        url = f'mysql+pymysql://{username}:{passw}@{hostname}/zillow'\n",
    "        return url\n",
    "\n",
    "    url = get_db_url('zillow', env.user, env.host, env.password)\n",
    "    \n",
    "    df = pd.read_sql('''\n",
    "        SELECT  propertylandusetypeid\n",
    "                bedroomcnt,\n",
    "                bathroomcnt,\n",
    "                calculatedfinishedsquarefeet,\n",
    "                taxvaluedollarcnt,\n",
    "                yearbuilt,\n",
    "                taxamount,\n",
    "                fips\n",
    "        FROM properties_2017 as p17\n",
    "        WHERE propertylandusetypeid = '261'\n",
    "        ''', url)\n",
    "\n",
    "    ## Clean data, dropping rows and converting dtypes ##\n",
    "    \n",
    "    # Drop all rows with NaN values.\n",
    "    df = df.dropna()\n",
    "\n",
    "    # Converting fips, yearbuilt, and bedrooms, taxvaluedollarcnt, and calculatedfinishedsquarefeet into integers\n",
    "    df[\"fips\"] = df[\"fips\"].astype(int)\n",
    "    df[\"yearbuilt\"] = df[\"yearbuilt\"].astype(int)\n",
    "    df[\"bedroomcnt\"] = df[\"bedroomcnt\"].astype(int)\n",
    "    df[\"taxvaluedollarcnt\"] = df[\"taxvaluedollarcnt\"].astype(int)\n",
    "    df[\"calculatedfinishedsquarefeet\"] = df[\"calculatedfinishedsquarefeet\"].astype(int)\n",
    "    \n",
    "    # Manually handle outliers that do not represent properties likely for 99% of buyers and zillow visitors \n",
    "    df = df[df.bathroomcnt <= 6]\n",
    "    \n",
    "    df = df[df.bedroomcnt <= 6]\n",
    "\n",
    "    df = df[df.taxvaluedollarcnt < 2_000_000]\n",
    "    \n",
    "    return df"
   ]
  },
  {
   "cell_type": "code",
   "execution_count": null,
   "id": "bacdfbf6",
   "metadata": {},
   "outputs": [],
   "source": [
    "df = wrangle_zillow()"
   ]
  },
  {
   "cell_type": "code",
   "execution_count": null,
   "id": "cce66419",
   "metadata": {},
   "outputs": [],
   "source": [
    "df.info()  "
   ]
  },
  {
   "cell_type": "code",
   "execution_count": null,
   "id": "3045c3b5",
   "metadata": {},
   "outputs": [],
   "source": [
    "df.head()"
   ]
  },
  {
   "cell_type": "code",
   "execution_count": null,
   "id": "948f66e3",
   "metadata": {},
   "outputs": [],
   "source": [
    "df.shape"
   ]
  },
  {
   "cell_type": "code",
   "execution_count": null,
   "id": "3123000c",
   "metadata": {},
   "outputs": [],
   "source": []
  },
  {
   "cell_type": "code",
   "execution_count": null,
   "id": "bbc0356b",
   "metadata": {},
   "outputs": [],
   "source": []
  },
  {
   "cell_type": "code",
   "execution_count": null,
   "id": "ca1b9110",
   "metadata": {},
   "outputs": [],
   "source": []
  },
  {
   "cell_type": "code",
   "execution_count": null,
   "id": "dea0a1c4",
   "metadata": {},
   "outputs": [],
   "source": []
  },
  {
   "cell_type": "code",
   "execution_count": null,
   "id": "adfbaa4a",
   "metadata": {},
   "outputs": [],
   "source": []
  },
  {
   "cell_type": "code",
   "execution_count": null,
   "id": "97ab31a7",
   "metadata": {},
   "outputs": [],
   "source": []
  },
  {
   "cell_type": "code",
   "execution_count": null,
   "id": "7673214d",
   "metadata": {},
   "outputs": [],
   "source": []
  },
  {
   "cell_type": "code",
   "execution_count": null,
   "id": "5d149f1c",
   "metadata": {},
   "outputs": [],
   "source": []
  },
  {
   "cell_type": "markdown",
   "id": "9dbdad55",
   "metadata": {},
   "source": [
    "# Exploration / Exploratory Analysis / Statistical Testing"
   ]
  },
  {
   "cell_type": "code",
   "execution_count": null,
   "id": "125c05a8",
   "metadata": {},
   "outputs": [],
   "source": []
  },
  {
   "cell_type": "code",
   "execution_count": null,
   "id": "71041e2a",
   "metadata": {},
   "outputs": [],
   "source": []
  },
  {
   "cell_type": "code",
   "execution_count": null,
   "id": "627847c2",
   "metadata": {},
   "outputs": [],
   "source": []
  },
  {
   "cell_type": "code",
   "execution_count": null,
   "id": "dd768c96",
   "metadata": {},
   "outputs": [],
   "source": []
  },
  {
   "cell_type": "code",
   "execution_count": null,
   "id": "3fb400ec",
   "metadata": {},
   "outputs": [],
   "source": []
  },
  {
   "cell_type": "code",
   "execution_count": null,
   "id": "6d2c3af5",
   "metadata": {},
   "outputs": [],
   "source": []
  },
  {
   "cell_type": "code",
   "execution_count": null,
   "id": "c43ab954",
   "metadata": {},
   "outputs": [],
   "source": []
  },
  {
   "cell_type": "code",
   "execution_count": null,
   "id": "5f8b5c56",
   "metadata": {},
   "outputs": [],
   "source": []
  },
  {
   "cell_type": "markdown",
   "id": "49467fa5",
   "metadata": {},
   "source": [
    "# Modeling"
   ]
  },
  {
   "cell_type": "code",
   "execution_count": null,
   "id": "8f5c064c",
   "metadata": {},
   "outputs": [],
   "source": []
  },
  {
   "cell_type": "code",
   "execution_count": null,
   "id": "1b57e989",
   "metadata": {},
   "outputs": [],
   "source": []
  },
  {
   "cell_type": "code",
   "execution_count": null,
   "id": "78558f5e",
   "metadata": {},
   "outputs": [],
   "source": []
  },
  {
   "cell_type": "code",
   "execution_count": null,
   "id": "885475ea",
   "metadata": {},
   "outputs": [],
   "source": []
  },
  {
   "cell_type": "markdown",
   "id": "3a1c2533",
   "metadata": {},
   "source": [
    "# Modeling Evaluation"
   ]
  },
  {
   "cell_type": "code",
   "execution_count": null,
   "id": "301c97fd",
   "metadata": {},
   "outputs": [],
   "source": []
  },
  {
   "cell_type": "code",
   "execution_count": null,
   "id": "2267a887",
   "metadata": {},
   "outputs": [],
   "source": []
  },
  {
   "cell_type": "code",
   "execution_count": null,
   "id": "76590c0e",
   "metadata": {},
   "outputs": [],
   "source": []
  },
  {
   "cell_type": "code",
   "execution_count": null,
   "id": "aa5a8443",
   "metadata": {},
   "outputs": [],
   "source": []
  },
  {
   "cell_type": "code",
   "execution_count": null,
   "id": "c6d40109",
   "metadata": {},
   "outputs": [],
   "source": []
  },
  {
   "cell_type": "code",
   "execution_count": null,
   "id": "50570776",
   "metadata": {},
   "outputs": [],
   "source": []
  },
  {
   "cell_type": "code",
   "execution_count": null,
   "id": "4d48c8bc",
   "metadata": {},
   "outputs": [],
   "source": []
  },
  {
   "cell_type": "code",
   "execution_count": null,
   "id": "c866537a",
   "metadata": {},
   "outputs": [],
   "source": []
  },
  {
   "cell_type": "code",
   "execution_count": null,
   "id": "ee831319",
   "metadata": {},
   "outputs": [],
   "source": []
  },
  {
   "cell_type": "code",
   "execution_count": null,
   "id": "6e482b3a",
   "metadata": {},
   "outputs": [],
   "source": []
  },
  {
   "cell_type": "code",
   "execution_count": null,
   "id": "b60ff537",
   "metadata": {},
   "outputs": [],
   "source": []
  },
  {
   "cell_type": "code",
   "execution_count": null,
   "id": "48bf6bb1",
   "metadata": {},
   "outputs": [],
   "source": []
  },
  {
   "cell_type": "code",
   "execution_count": null,
   "id": "c0368cd3",
   "metadata": {},
   "outputs": [],
   "source": []
  }
 ],
 "metadata": {
  "kernelspec": {
   "display_name": "Python 3 (ipykernel)",
   "language": "python",
   "name": "python3"
  },
  "language_info": {
   "codemirror_mode": {
    "name": "ipython",
    "version": 3
   },
   "file_extension": ".py",
   "mimetype": "text/x-python",
   "name": "python",
   "nbconvert_exporter": "python",
   "pygments_lexer": "ipython3",
   "version": "3.9.12"
  }
 },
 "nbformat": 4,
 "nbformat_minor": 5
}
