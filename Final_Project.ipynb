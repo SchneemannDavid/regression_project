{
 "cells": [
  {
   "cell_type": "markdown",
   "id": "e3403e29",
   "metadata": {},
   "source": [
    "# Predicting Home Value for Zillow"
   ]
  },
  {
   "cell_type": "markdown",
   "id": "0d2356e2",
   "metadata": {},
   "source": [
    "by David Schneemann"
   ]
  },
  {
   "cell_type": "markdown",
   "id": "03f2dee1",
   "metadata": {},
   "source": [
    "## Project Goal"
   ]
  },
  {
   "cell_type": "markdown",
   "id": "33b905ed",
   "metadata": {},
   "source": [
    "My goal with this project is to identify Zillow's key drivers of home value and to provide insight into why and how these factors are producing certain home values. With this information and the following recommendations, our organization can work together to improve business processes and procedures in order to more accurately predict home values moving forward."
   ]
  },
  {
   "cell_type": "markdown",
   "id": "f7600c4a",
   "metadata": {},
   "source": [
    "## Project Description"
   ]
  },
  {
   "cell_type": "markdown",
   "id": "c38607fc",
   "metadata": {},
   "source": [
    "Zillow is a website that utilizes a database of homes around the country in order to inform people who may be looking to buy, sell, or rent.\n",
    "\n",
    "The ability to predict home value is essential as new homes are built each year and some existing homes don't currently have assessed value within this database.\n",
    "\n",
    "In order to more accurately predict home value, we will analyze the attributes (features) of homes within a predetermined set of data. This dataset includes Single Family Properties that had a transaction during 2017.\n",
    "We will then develop models for predicting home value based on these attributes and provide recommendations and predictions to Zillow for improving prediction of home values moving forward."
   ]
  },
  {
   "cell_type": "markdown",
   "id": "3959daad",
   "metadata": {},
   "source": [
    "## Initial Questions"
   ]
  },
  {
   "cell_type": "markdown",
   "id": "756eb326",
   "metadata": {},
   "source": [
    "#### 1. Does a higher number of bedrooms increase home value?\n",
    "\n",
    "- Ho = More bedrooms translates to <= home value\n",
    "- Ha = More bedrooms translates to > home value\n",
    "\n",
    "#### 2. Does a higher number of bathrooms increase home value?\n",
    "\n",
    "- Ho = More bathrooms translates to <= home value\n",
    "- Ha = More bathrooms translates to > home value\n",
    "\n",
    "#### 3. Do more garage spaces increase home value?\n",
    "\n",
    "- Ho = More garage spaces translates to <= home value\n",
    "- Ha = More garage spaces translates to > home value\n",
    "\n",
    "#### 4. Does county location affect home value?\n",
    "\n",
    "- Ho = Orange county home values <= Ventura or LA County home values\n",
    "- Ha = Orange county home values > Ventura or LA County home values\n",
    "\n",
    "#### 5. Does a higher square footage increase home value?\n",
    "\n",
    "- Ho = More sq_ft translates to <= home value\n",
    "- Ha = More sq_ft translates to > home value"
   ]
  },
  {
   "cell_type": "markdown",
   "id": "582a38b1",
   "metadata": {},
   "source": [
    "## Data Dictionary"
   ]
  },
  {
   "cell_type": "markdown",
   "id": "b5c28e7c",
   "metadata": {},
   "source": [
    "In order to effectively meet our goals, the following module imports are required. \\\n",
    "Below is an extensive list of all modules I imported and used to create and complete the desired analysis for Zillow."
   ]
  },
  {
   "cell_type": "code",
   "execution_count": 1,
   "id": "e1f5c643",
   "metadata": {},
   "outputs": [],
   "source": [
    "import warnings\n",
    "warnings.filterwarnings(\"ignore\")\n",
    "\n",
    "import pandas as pd\n",
    "import numpy as np\n",
    "import matplotlib.pyplot as plt\n",
    "import seaborn as sns\n",
    "import math\n",
    "\n",
    "from sklearn.model_selection import train_test_split\n",
    "from sklearn.feature_selection import SelectKBest, RFE, f_regression, SequentialFeatureSelector\n",
    "from sklearn.linear_model import LinearRegression\n",
    "from scipy import stats\n",
    "import sklearn.preprocessing\n",
    "from sklearn.metrics import mean_squared_error\n",
    "from scipy.stats import pearsonr, spearmanr, kruskal\n",
    "\n",
    "\n",
    "from env import user, password, host\n",
    "import wrangle"
   ]
  },
  {
   "cell_type": "markdown",
   "id": "61c8b492",
   "metadata": {},
   "source": [
    "| Variable      | Meaning |\n",
    "| ----------- | ----------- |\n",
    "| home_value      | The total tax assessed value of the parcel       |\n",
    "| bedrooms   | The total number of bedrooms in a home        |\n",
    "| bathrooms      | The total number of bathrooms in a home       |\n",
    "| garage_spaces      | The total number of car slots in a garage       |\n",
    "| year_built      | The year the home was built       |\n",
    "| location      | Location of a home by county      |\n",
    "| sq_ft      | The total square feet of a home       |\n",
    "| lot_sq_ft      | The total square feet of a property lot       |\n",
    "| decade_built   | The decade in which the home was built       |"
   ]
  },
  {
   "cell_type": "markdown",
   "id": "ec2e9ef6",
   "metadata": {},
   "source": [
    "## Wrangle Zillow Data"
   ]
  },
  {
   "cell_type": "code",
   "execution_count": 2,
   "id": "b044f6c4",
   "metadata": {},
   "outputs": [],
   "source": [
    "df = wrangle.wrangle_zillow()"
   ]
  },
  {
   "cell_type": "code",
   "execution_count": 3,
   "id": "eb5a1e3f",
   "metadata": {},
   "outputs": [
    {
     "name": "stdout",
     "output_type": "stream",
     "text": [
      "<class 'pandas.core.frame.DataFrame'>\n",
      "Int64Index: 54167 entries, 0 to 56078\n",
      "Data columns (total 9 columns):\n",
      " #   Column          Non-Null Count  Dtype  \n",
      "---  ------          --------------  -----  \n",
      " 0   bedrooms        54167 non-null  int64  \n",
      " 1   bathrooms       54167 non-null  float64\n",
      " 2   garage_spaces   54167 non-null  float64\n",
      " 3   year_built      54167 non-null  int64  \n",
      " 4   location        54167 non-null  object \n",
      " 5   sq_ft           54167 non-null  int64  \n",
      " 6   home_value      54167 non-null  int64  \n",
      " 7   lot_sq_ft       54167 non-null  float64\n",
      " 8   property_value  54167 non-null  float64\n",
      "dtypes: float64(4), int64(4), object(1)\n",
      "memory usage: 4.1+ MB\n"
     ]
    }
   ],
   "source": [
    "df.info()"
   ]
  },
  {
   "cell_type": "code",
   "execution_count": 4,
   "id": "ab979e77",
   "metadata": {},
   "outputs": [
    {
     "data": {
      "text/plain": [
       "(54167, 9)"
      ]
     },
     "execution_count": 4,
     "metadata": {},
     "output_type": "execute_result"
    }
   ],
   "source": [
    "df.shape"
   ]
  },
  {
   "cell_type": "code",
   "execution_count": 5,
   "id": "9fa8d720",
   "metadata": {
    "scrolled": true
   },
   "outputs": [
    {
     "data": {
      "text/html": [
       "<div>\n",
       "<style scoped>\n",
       "    .dataframe tbody tr th:only-of-type {\n",
       "        vertical-align: middle;\n",
       "    }\n",
       "\n",
       "    .dataframe tbody tr th {\n",
       "        vertical-align: top;\n",
       "    }\n",
       "\n",
       "    .dataframe thead th {\n",
       "        text-align: right;\n",
       "    }\n",
       "</style>\n",
       "<table border=\"1\" class=\"dataframe\">\n",
       "  <thead>\n",
       "    <tr style=\"text-align: right;\">\n",
       "      <th></th>\n",
       "      <th>bedrooms</th>\n",
       "      <th>bathrooms</th>\n",
       "      <th>garage_spaces</th>\n",
       "      <th>year_built</th>\n",
       "      <th>location</th>\n",
       "      <th>sq_ft</th>\n",
       "      <th>home_value</th>\n",
       "      <th>lot_sq_ft</th>\n",
       "      <th>property_value</th>\n",
       "    </tr>\n",
       "  </thead>\n",
       "  <tbody>\n",
       "    <tr>\n",
       "      <th>0</th>\n",
       "      <td>3</td>\n",
       "      <td>4.0</td>\n",
       "      <td>4.0</td>\n",
       "      <td>1934</td>\n",
       "      <td>LA County</td>\n",
       "      <td>2822</td>\n",
       "      <td>1538506</td>\n",
       "      <td>7093.0</td>\n",
       "      <td>1076955.0</td>\n",
       "    </tr>\n",
       "    <tr>\n",
       "      <th>1</th>\n",
       "      <td>3</td>\n",
       "      <td>3.0</td>\n",
       "      <td>3.0</td>\n",
       "      <td>1990</td>\n",
       "      <td>LA County</td>\n",
       "      <td>2815</td>\n",
       "      <td>1106839</td>\n",
       "      <td>7601.0</td>\n",
       "      <td>651740.0</td>\n",
       "    </tr>\n",
       "    <tr>\n",
       "      <th>2</th>\n",
       "      <td>4</td>\n",
       "      <td>2.0</td>\n",
       "      <td>2.0</td>\n",
       "      <td>1936</td>\n",
       "      <td>LA County</td>\n",
       "      <td>2386</td>\n",
       "      <td>196622</td>\n",
       "      <td>7609.0</td>\n",
       "      <td>72463.0</td>\n",
       "    </tr>\n",
       "    <tr>\n",
       "      <th>3</th>\n",
       "      <td>2</td>\n",
       "      <td>1.0</td>\n",
       "      <td>1.0</td>\n",
       "      <td>1948</td>\n",
       "      <td>LA County</td>\n",
       "      <td>2406</td>\n",
       "      <td>628434</td>\n",
       "      <td>6244.0</td>\n",
       "      <td>456614.0</td>\n",
       "    </tr>\n",
       "    <tr>\n",
       "      <th>4</th>\n",
       "      <td>2</td>\n",
       "      <td>1.0</td>\n",
       "      <td>1.0</td>\n",
       "      <td>1936</td>\n",
       "      <td>LA County</td>\n",
       "      <td>962</td>\n",
       "      <td>545000</td>\n",
       "      <td>3752.0</td>\n",
       "      <td>387200.0</td>\n",
       "    </tr>\n",
       "  </tbody>\n",
       "</table>\n",
       "</div>"
      ],
      "text/plain": [
       "   bedrooms  bathrooms  garage_spaces  year_built   location  sq_ft  \\\n",
       "0         3        4.0            4.0        1934  LA County   2822   \n",
       "1         3        3.0            3.0        1990  LA County   2815   \n",
       "2         4        2.0            2.0        1936  LA County   2386   \n",
       "3         2        1.0            1.0        1948  LA County   2406   \n",
       "4         2        1.0            1.0        1936  LA County    962   \n",
       "\n",
       "   home_value  lot_sq_ft  property_value  \n",
       "0     1538506     7093.0       1076955.0  \n",
       "1     1106839     7601.0        651740.0  \n",
       "2      196622     7609.0         72463.0  \n",
       "3      628434     6244.0        456614.0  \n",
       "4      545000     3752.0        387200.0  "
      ]
     },
     "execution_count": 5,
     "metadata": {},
     "output_type": "execute_result"
    }
   ],
   "source": [
    "df.head()"
   ]
  },
  {
   "cell_type": "markdown",
   "id": "e4654321",
   "metadata": {},
   "source": [
    "## Prepare Zillow Data"
   ]
  },
  {
   "cell_type": "code",
   "execution_count": null,
   "id": "5fac75d4",
   "metadata": {},
   "outputs": [],
   "source": []
  },
  {
   "cell_type": "code",
   "execution_count": null,
   "id": "94fce66c",
   "metadata": {},
   "outputs": [],
   "source": []
  },
  {
   "cell_type": "code",
   "execution_count": null,
   "id": "ba5d2993",
   "metadata": {},
   "outputs": [],
   "source": []
  },
  {
   "cell_type": "markdown",
   "id": "75b89b11",
   "metadata": {},
   "source": [
    "## Set the Data Context"
   ]
  },
  {
   "cell_type": "code",
   "execution_count": null,
   "id": "1cbd1ae3",
   "metadata": {},
   "outputs": [],
   "source": []
  },
  {
   "cell_type": "code",
   "execution_count": null,
   "id": "a389a5e2",
   "metadata": {},
   "outputs": [],
   "source": []
  },
  {
   "cell_type": "code",
   "execution_count": null,
   "id": "e18d8482",
   "metadata": {},
   "outputs": [],
   "source": []
  },
  {
   "cell_type": "code",
   "execution_count": null,
   "id": "d7eb54d9",
   "metadata": {},
   "outputs": [],
   "source": []
  },
  {
   "cell_type": "markdown",
   "id": "5135c1de",
   "metadata": {},
   "source": [
    "## Exploratory Analysis"
   ]
  },
  {
   "cell_type": "markdown",
   "id": "458a2164",
   "metadata": {},
   "source": [
    "### 1. Does a higher number of bedrooms increase home value?\n",
    "- Ho = More bedrooms translates to <= home value\n",
    "- Ha = More bedrooms translates to > home value"
   ]
  },
  {
   "cell_type": "code",
   "execution_count": null,
   "id": "d864e256",
   "metadata": {},
   "outputs": [],
   "source": []
  },
  {
   "cell_type": "code",
   "execution_count": null,
   "id": "e101724f",
   "metadata": {},
   "outputs": [],
   "source": []
  },
  {
   "cell_type": "markdown",
   "id": "59fe1ae8",
   "metadata": {},
   "source": [
    "#### Statistical Analysis"
   ]
  },
  {
   "cell_type": "code",
   "execution_count": 2,
   "id": "79270cd7",
   "metadata": {},
   "outputs": [
    {
     "ename": "NameError",
     "evalue": "name 'pearsonr' is not defined",
     "output_type": "error",
     "traceback": [
      "\u001b[0;31m---------------------------------------------------------------------------\u001b[0m",
      "\u001b[0;31mNameError\u001b[0m                                 Traceback (most recent call last)",
      "Input \u001b[0;32mIn [2]\u001b[0m, in \u001b[0;36m<cell line: 4>\u001b[0;34m()\u001b[0m\n\u001b[1;32m      1\u001b[0m \u001b[38;5;66;03m# Use the scipy stats function pearsonr to calculate the correlation coefficient and the p-value.\u001b[39;00m\n\u001b[1;32m      2\u001b[0m alpha \u001b[38;5;241m=\u001b[39m \u001b[38;5;241m0.05\u001b[39m\n\u001b[0;32m----> 4\u001b[0m r_bed , p_bed \u001b[38;5;241m=\u001b[39m \u001b[43mpearsonr\u001b[49m(x \u001b[38;5;241m=\u001b[39m train[\u001b[38;5;124m'\u001b[39m\u001b[38;5;124mbedrooms\u001b[39m\u001b[38;5;124m'\u001b[39m], y \u001b[38;5;241m=\u001b[39m train[\u001b[38;5;124m'\u001b[39m\u001b[38;5;124mhome_value\u001b[39m\u001b[38;5;124m'\u001b[39m])\n\u001b[1;32m      6\u001b[0m r_bed , p_bed\n\u001b[1;32m      8\u001b[0m \u001b[38;5;28;01mif\u001b[39;00m p_bed \u001b[38;5;241m<\u001b[39m alpha:\n",
      "\u001b[0;31mNameError\u001b[0m: name 'pearsonr' is not defined"
     ]
    }
   ],
   "source": [
    "# Use the scipy stats function pearsonr to calculate the correlation coefficient and the p-value.\n",
    "alpha = 0.05\n",
    "\n",
    "r_bed , p_bed = pearsonr(x = train['bedrooms'], y = train['home_value'])\n",
    "\n",
    "r_bed , p_bed\n",
    "\n",
    "if p_bed < alpha:\n",
    "    print('The number of bedrooms is correlated with home value.')\n",
    "    print('The correlation coefficient is {}.'.format(r_bed))\n",
    "else:\n",
    "    print('The number of bedrooms is NOT correlated with home value.')"
   ]
  },
  {
   "cell_type": "markdown",
   "id": "77f27a97",
   "metadata": {},
   "source": [
    "#### Answer 1 : Yes,  \n",
    "Following our statistical test, we indicate that this feature is correlated with home value, meaning that there is statistical significance behind the claim that more bedrooms results in a higher home value. Thus we move forward with this feature."
   ]
  },
  {
   "cell_type": "code",
   "execution_count": null,
   "id": "ffe999b2",
   "metadata": {},
   "outputs": [],
   "source": []
  },
  {
   "cell_type": "code",
   "execution_count": null,
   "id": "48a3a756",
   "metadata": {},
   "outputs": [],
   "source": []
  },
  {
   "cell_type": "code",
   "execution_count": null,
   "id": "0fc600f5",
   "metadata": {},
   "outputs": [],
   "source": []
  },
  {
   "cell_type": "code",
   "execution_count": null,
   "id": "b771f41c",
   "metadata": {},
   "outputs": [],
   "source": []
  },
  {
   "cell_type": "code",
   "execution_count": null,
   "id": "90383085",
   "metadata": {},
   "outputs": [],
   "source": []
  },
  {
   "cell_type": "code",
   "execution_count": null,
   "id": "1c97040f",
   "metadata": {},
   "outputs": [],
   "source": []
  },
  {
   "cell_type": "code",
   "execution_count": null,
   "id": "d56026c4",
   "metadata": {},
   "outputs": [],
   "source": []
  },
  {
   "cell_type": "code",
   "execution_count": null,
   "id": "047208af",
   "metadata": {},
   "outputs": [],
   "source": []
  },
  {
   "cell_type": "code",
   "execution_count": null,
   "id": "752d7f79",
   "metadata": {},
   "outputs": [],
   "source": []
  },
  {
   "cell_type": "code",
   "execution_count": null,
   "id": "8d239ece",
   "metadata": {},
   "outputs": [],
   "source": []
  },
  {
   "cell_type": "markdown",
   "id": "899c561e",
   "metadata": {},
   "source": [
    "### Summary: Which are the best predictors of home value?"
   ]
  },
  {
   "cell_type": "code",
   "execution_count": null,
   "id": "f8f8963d",
   "metadata": {},
   "outputs": [],
   "source": []
  },
  {
   "cell_type": "code",
   "execution_count": null,
   "id": "fe71e7a3",
   "metadata": {},
   "outputs": [],
   "source": []
  },
  {
   "cell_type": "code",
   "execution_count": null,
   "id": "63faaf3b",
   "metadata": {},
   "outputs": [],
   "source": []
  },
  {
   "cell_type": "code",
   "execution_count": null,
   "id": "1484c559",
   "metadata": {},
   "outputs": [],
   "source": []
  },
  {
   "cell_type": "code",
   "execution_count": null,
   "id": "da14682c",
   "metadata": {},
   "outputs": [],
   "source": []
  },
  {
   "cell_type": "markdown",
   "id": "f3baf181",
   "metadata": {},
   "source": [
    "## Predicting Home Value"
   ]
  },
  {
   "cell_type": "code",
   "execution_count": null,
   "id": "b6f77800",
   "metadata": {},
   "outputs": [],
   "source": []
  },
  {
   "cell_type": "markdown",
   "id": "64c95694",
   "metadata": {},
   "source": [
    "#### Baseline"
   ]
  },
  {
   "cell_type": "code",
   "execution_count": null,
   "id": "a6746df4",
   "metadata": {},
   "outputs": [],
   "source": []
  },
  {
   "cell_type": "code",
   "execution_count": null,
   "id": "f209c6eb",
   "metadata": {},
   "outputs": [],
   "source": []
  },
  {
   "cell_type": "code",
   "execution_count": null,
   "id": "1f536e17",
   "metadata": {},
   "outputs": [],
   "source": []
  },
  {
   "cell_type": "code",
   "execution_count": null,
   "id": "b9cdffe8",
   "metadata": {},
   "outputs": [],
   "source": []
  },
  {
   "cell_type": "markdown",
   "id": "cbb94ada",
   "metadata": {},
   "source": [
    "### Fit [ ] Models"
   ]
  },
  {
   "cell_type": "code",
   "execution_count": null,
   "id": "f81eef10",
   "metadata": {},
   "outputs": [],
   "source": []
  },
  {
   "cell_type": "code",
   "execution_count": null,
   "id": "221279c8",
   "metadata": {},
   "outputs": [],
   "source": []
  },
  {
   "cell_type": "code",
   "execution_count": null,
   "id": "84c83da8",
   "metadata": {},
   "outputs": [],
   "source": []
  },
  {
   "cell_type": "code",
   "execution_count": null,
   "id": "d7b1e45a",
   "metadata": {},
   "outputs": [],
   "source": []
  },
  {
   "cell_type": "code",
   "execution_count": null,
   "id": "71301f96",
   "metadata": {},
   "outputs": [],
   "source": []
  },
  {
   "cell_type": "code",
   "execution_count": null,
   "id": "f9036abc",
   "metadata": {},
   "outputs": [],
   "source": []
  },
  {
   "cell_type": "code",
   "execution_count": null,
   "id": "ce65a5dc",
   "metadata": {},
   "outputs": [],
   "source": []
  },
  {
   "cell_type": "markdown",
   "id": "ccf3c410",
   "metadata": {},
   "source": [
    "#### Predict and Evaluate Test dataset"
   ]
  },
  {
   "cell_type": "code",
   "execution_count": null,
   "id": "e34f9ff0",
   "metadata": {},
   "outputs": [],
   "source": []
  },
  {
   "cell_type": "code",
   "execution_count": null,
   "id": "642117c3",
   "metadata": {},
   "outputs": [],
   "source": []
  },
  {
   "cell_type": "code",
   "execution_count": null,
   "id": "1a67d0b7",
   "metadata": {},
   "outputs": [],
   "source": []
  },
  {
   "cell_type": "code",
   "execution_count": null,
   "id": "9f2aa46b",
   "metadata": {},
   "outputs": [],
   "source": []
  },
  {
   "cell_type": "code",
   "execution_count": null,
   "id": "5476c5a2",
   "metadata": {},
   "outputs": [],
   "source": []
  },
  {
   "cell_type": "markdown",
   "id": "be51e379",
   "metadata": {},
   "source": [
    "## Conclusion"
   ]
  },
  {
   "cell_type": "markdown",
   "id": "1498f373",
   "metadata": {},
   "source": [
    "### Summary"
   ]
  },
  {
   "cell_type": "code",
   "execution_count": null,
   "id": "cafa5f9b",
   "metadata": {},
   "outputs": [],
   "source": []
  },
  {
   "cell_type": "code",
   "execution_count": null,
   "id": "abdb4d3d",
   "metadata": {},
   "outputs": [],
   "source": []
  },
  {
   "cell_type": "markdown",
   "id": "3acaa198",
   "metadata": {},
   "source": [
    "### Recommendations"
   ]
  },
  {
   "cell_type": "code",
   "execution_count": null,
   "id": "66c96adb",
   "metadata": {},
   "outputs": [],
   "source": []
  },
  {
   "cell_type": "code",
   "execution_count": null,
   "id": "cbd2b914",
   "metadata": {},
   "outputs": [],
   "source": []
  },
  {
   "cell_type": "code",
   "execution_count": null,
   "id": "e49d002c",
   "metadata": {},
   "outputs": [],
   "source": []
  },
  {
   "cell_type": "markdown",
   "id": "eb2be0bc",
   "metadata": {},
   "source": [
    "### Next Steps"
   ]
  },
  {
   "cell_type": "code",
   "execution_count": null,
   "id": "f3870fc6",
   "metadata": {},
   "outputs": [],
   "source": []
  },
  {
   "cell_type": "code",
   "execution_count": null,
   "id": "bda263f6",
   "metadata": {},
   "outputs": [],
   "source": []
  },
  {
   "cell_type": "code",
   "execution_count": null,
   "id": "f5c0448a",
   "metadata": {},
   "outputs": [],
   "source": []
  },
  {
   "cell_type": "code",
   "execution_count": null,
   "id": "11a7644d",
   "metadata": {},
   "outputs": [],
   "source": []
  }
 ],
 "metadata": {
  "kernelspec": {
   "display_name": "Python 3 (ipykernel)",
   "language": "python",
   "name": "python3"
  },
  "language_info": {
   "codemirror_mode": {
    "name": "ipython",
    "version": 3
   },
   "file_extension": ".py",
   "mimetype": "text/x-python",
   "name": "python",
   "nbconvert_exporter": "python",
   "pygments_lexer": "ipython3",
   "version": "3.9.12"
  }
 },
 "nbformat": 4,
 "nbformat_minor": 5
}
