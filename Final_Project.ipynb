{
 "cells": [
  {
   "cell_type": "code",
   "execution_count": 1,
   "id": "e1f5c643",
   "metadata": {},
   "outputs": [],
   "source": [
    "import warnings\n",
    "warnings.filterwarnings(\"ignore\")\n",
    "\n",
    "import pandas as pd\n",
    "import matplotlib.pyplot as plt\n",
    "import seaborn as sns\n",
    "import numpy as np\n",
    "from scipy import stats\n",
    "import sklearn.preprocessing\n",
    "from sklearn.model_selection import train_test_split\n",
    "\n",
    "import env\n",
    "import wrangle "
   ]
  },
  {
   "cell_type": "code",
   "execution_count": 2,
   "id": "b044f6c4",
   "metadata": {},
   "outputs": [],
   "source": [
    "df = wrangle.wrangle_zillow()"
   ]
  },
  {
   "cell_type": "code",
   "execution_count": 3,
   "id": "eb5a1e3f",
   "metadata": {},
   "outputs": [
    {
     "name": "stdout",
     "output_type": "stream",
     "text": [
      "<class 'pandas.core.frame.DataFrame'>\n",
      "Int64Index: 54167 entries, 0 to 56078\n",
      "Data columns (total 9 columns):\n",
      " #   Column          Non-Null Count  Dtype  \n",
      "---  ------          --------------  -----  \n",
      " 0   bedrooms        54167 non-null  int64  \n",
      " 1   bathrooms       54167 non-null  float64\n",
      " 2   garage_spaces   54167 non-null  float64\n",
      " 3   year_built      54167 non-null  int64  \n",
      " 4   location        54167 non-null  object \n",
      " 5   sq_ft           54167 non-null  int64  \n",
      " 6   home_value      54167 non-null  int64  \n",
      " 7   lot_sq_ft       54167 non-null  float64\n",
      " 8   property_value  54167 non-null  float64\n",
      "dtypes: float64(4), int64(4), object(1)\n",
      "memory usage: 4.1+ MB\n"
     ]
    }
   ],
   "source": [
    "df.info()"
   ]
  },
  {
   "cell_type": "code",
   "execution_count": 4,
   "id": "ab979e77",
   "metadata": {},
   "outputs": [
    {
     "data": {
      "text/plain": [
       "(54167, 9)"
      ]
     },
     "execution_count": 4,
     "metadata": {},
     "output_type": "execute_result"
    }
   ],
   "source": [
    "df.shape"
   ]
  },
  {
   "cell_type": "code",
   "execution_count": 5,
   "id": "9fa8d720",
   "metadata": {},
   "outputs": [
    {
     "data": {
      "text/html": [
       "<div>\n",
       "<style scoped>\n",
       "    .dataframe tbody tr th:only-of-type {\n",
       "        vertical-align: middle;\n",
       "    }\n",
       "\n",
       "    .dataframe tbody tr th {\n",
       "        vertical-align: top;\n",
       "    }\n",
       "\n",
       "    .dataframe thead th {\n",
       "        text-align: right;\n",
       "    }\n",
       "</style>\n",
       "<table border=\"1\" class=\"dataframe\">\n",
       "  <thead>\n",
       "    <tr style=\"text-align: right;\">\n",
       "      <th></th>\n",
       "      <th>bedrooms</th>\n",
       "      <th>bathrooms</th>\n",
       "      <th>garage_spaces</th>\n",
       "      <th>year_built</th>\n",
       "      <th>location</th>\n",
       "      <th>sq_ft</th>\n",
       "      <th>home_value</th>\n",
       "      <th>lot_sq_ft</th>\n",
       "      <th>property_value</th>\n",
       "    </tr>\n",
       "  </thead>\n",
       "  <tbody>\n",
       "    <tr>\n",
       "      <th>0</th>\n",
       "      <td>3</td>\n",
       "      <td>4.0</td>\n",
       "      <td>4.0</td>\n",
       "      <td>1934</td>\n",
       "      <td>LA County</td>\n",
       "      <td>2822</td>\n",
       "      <td>1538506</td>\n",
       "      <td>7093.0</td>\n",
       "      <td>1076955.0</td>\n",
       "    </tr>\n",
       "    <tr>\n",
       "      <th>1</th>\n",
       "      <td>3</td>\n",
       "      <td>3.0</td>\n",
       "      <td>3.0</td>\n",
       "      <td>1990</td>\n",
       "      <td>LA County</td>\n",
       "      <td>2815</td>\n",
       "      <td>1106839</td>\n",
       "      <td>7601.0</td>\n",
       "      <td>651740.0</td>\n",
       "    </tr>\n",
       "    <tr>\n",
       "      <th>2</th>\n",
       "      <td>4</td>\n",
       "      <td>2.0</td>\n",
       "      <td>2.0</td>\n",
       "      <td>1936</td>\n",
       "      <td>LA County</td>\n",
       "      <td>2386</td>\n",
       "      <td>196622</td>\n",
       "      <td>7609.0</td>\n",
       "      <td>72463.0</td>\n",
       "    </tr>\n",
       "    <tr>\n",
       "      <th>3</th>\n",
       "      <td>2</td>\n",
       "      <td>1.0</td>\n",
       "      <td>1.0</td>\n",
       "      <td>1948</td>\n",
       "      <td>LA County</td>\n",
       "      <td>2406</td>\n",
       "      <td>628434</td>\n",
       "      <td>6244.0</td>\n",
       "      <td>456614.0</td>\n",
       "    </tr>\n",
       "    <tr>\n",
       "      <th>4</th>\n",
       "      <td>2</td>\n",
       "      <td>1.0</td>\n",
       "      <td>1.0</td>\n",
       "      <td>1936</td>\n",
       "      <td>LA County</td>\n",
       "      <td>962</td>\n",
       "      <td>545000</td>\n",
       "      <td>3752.0</td>\n",
       "      <td>387200.0</td>\n",
       "    </tr>\n",
       "  </tbody>\n",
       "</table>\n",
       "</div>"
      ],
      "text/plain": [
       "   bedrooms  bathrooms  garage_spaces  year_built   location  sq_ft  \\\n",
       "0         3        4.0            4.0        1934  LA County   2822   \n",
       "1         3        3.0            3.0        1990  LA County   2815   \n",
       "2         4        2.0            2.0        1936  LA County   2386   \n",
       "3         2        1.0            1.0        1948  LA County   2406   \n",
       "4         2        1.0            1.0        1936  LA County    962   \n",
       "\n",
       "   home_value  lot_sq_ft  property_value  \n",
       "0     1538506     7093.0       1076955.0  \n",
       "1     1106839     7601.0        651740.0  \n",
       "2      196622     7609.0         72463.0  \n",
       "3      628434     6244.0        456614.0  \n",
       "4      545000     3752.0        387200.0  "
      ]
     },
     "execution_count": 5,
     "metadata": {},
     "output_type": "execute_result"
    }
   ],
   "source": [
    "df.head()"
   ]
  }
 ],
 "metadata": {
  "kernelspec": {
   "display_name": "Python 3 (ipykernel)",
   "language": "python",
   "name": "python3"
  },
  "language_info": {
   "codemirror_mode": {
    "name": "ipython",
    "version": 3
   },
   "file_extension": ".py",
   "mimetype": "text/x-python",
   "name": "python",
   "nbconvert_exporter": "python",
   "pygments_lexer": "ipython3",
   "version": "3.9.12"
  }
 },
 "nbformat": 4,
 "nbformat_minor": 5
}
